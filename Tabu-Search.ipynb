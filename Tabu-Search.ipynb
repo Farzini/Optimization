{
 "cells": [
  {
   "cell_type": "markdown",
   "id": "2349b373",
   "metadata": {},
   "source": [
    "# Tabu Search"
   ]
  },
  {
   "cell_type": "code",
   "execution_count": null,
   "id": "3b25dcd3",
   "metadata": {},
   "outputs": [],
   "source": [
    "def tabu_search(distances, inspection_durations, tabu_list_size, max_iterations):\n",
    "    # Initialize current solution\n",
    "    current_solution = generate_random_solution()\n",
    "    current_fitness = objective_function(current_solution, distances, inspection_durations)\n",
    "    \n",
    "    # Initialize best solution\n",
    "    best_solution = current_solution\n",
    "    best_fitness = current_fitness\n",
    "    \n",
    "    # Initialize tabu list\n",
    "    tabu_list = []\n",
    "    \n",
    "    for iteration in range(max_iterations):\n",
    "        # Generate neighborhood of current solution\n",
    "        neighborhood = generate_neighborhood(current_solution)\n",
    "        \n",
    "        # Find best solution in neighborhood that is not in tabu list\n",
    "        best_neighbor = None\n",
    "        best_neighbor_fitness = float('inf')\n",
    "        for neighbor in neighborhood:\n",
    "            if neighbor not in tabu_list:\n",
    "                neighbor_fitness = objective_function(neighbor, distances, inspection_durations)\n",
    "                if neighbor_fitness < best_neighbor_fitness:\n",
    "                    best_neighbor = neighbor\n",
    "                    best_neighbor_fitness = neighbor_fitness\n",
    "        \n",
    "        # Update current solution\n",
    "        current_solution = best_neighbor\n",
    "        current_fitness = best_neighbor_fitness\n",
    "        \n",
    "        # Update best solution\n",
    "        if current_fitness < best_fitness:\n",
    "            best_solution = current_solution\n",
    "            best_fitness = current_fitness\n",
    "        \n",
    "        # Update tabu list\n",
    "        tabu_list.append(current_solution)\n",
    "        if len(tabu_list) > tabu_list_size:\n",
    "            tabu_list.pop(0)\n",
    "    \n",
    "    return best_solution\n",
    "\n",
    "def generate_neighborhood(solution):\n",
    "    neighborhood = []\n",
    "    for i in range(len(solution)):\n",
    "        for j in range(i+1, len(solution)):\n",
    "            # Generate new solution by swapping two establishments\n",
    "            new_solution = solution.copy()\n",
    "            new_solution[i], new_solution[j] = new_solution[j], new_solution[i]\n",
    "            neighborhood.append(new_solution)\n",
    "    return neighborhood"
   ]
  }
 ],
 "metadata": {
  "hide_input": false,
  "kernelspec": {
   "display_name": "Python 3 (ipykernel)",
   "language": "python",
   "name": "python3"
  },
  "language_info": {
   "codemirror_mode": {
    "name": "ipython",
    "version": 3
   },
   "file_extension": ".py",
   "mimetype": "text/x-python",
   "name": "python",
   "nbconvert_exporter": "python",
   "pygments_lexer": "ipython3",
   "version": "3.10.6"
  }
 },
 "nbformat": 4,
 "nbformat_minor": 5
}
