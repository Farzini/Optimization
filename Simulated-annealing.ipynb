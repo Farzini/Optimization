{
 "cells": [
  {
   "cell_type": "markdown",
   "id": "721d13be",
   "metadata": {},
   "source": [
    "# Simulated Annealing"
   ]
  },
  {
   "cell_type": "code",
   "execution_count": 1,
   "id": "c41b0b90",
   "metadata": {},
   "outputs": [],
   "source": [
    "def simulated_annealing(distances, inspection_durations, initial_temperature, cooling_rate):\n",
    "    # Initialize current solution\n",
    "    current_solution = generate_random_solution()\n",
    "    current_fitness = objective_function(current_solution, distances, inspection_durations)\n",
    "    \n",
    "    # Initialize best solution\n",
    "    best_solution = current_solution\n",
    "    best_fitness = current_fitness\n",
    "    \n",
    "    # Set initial temperature\n",
    "    temperature = initial_temperature\n",
    "    \n",
    "    while temperature > 1:\n",
    "        # Generate new solution by perturbing current solution\n",
    "        new_solution = perturb_solution(current_solution)\n",
    "        new_fitness = objective_function(new_solution, distances, inspection_durations)\n",
    "        \n",
    "        # Calculate change in fitness\n",
    "        delta_fitness = new_fitness - current_fitness\n",
    "        \n",
    "        # Accept new solution with probability based on change in fitness and temperature\n",
    "        if delta_fitness < 0 or math.exp(-delta_fitness / temperature) > random.random():\n",
    "            current_solution = new_solution\n",
    "            current_fitness = new_fitness\n",
    "        \n",
    "        # Update best solution\n",
    "        if current_fitness < best_fitness:\n",
    "            best_solution = current_solution\n",
    "            best_fitness = current_fitness\n",
    "        \n",
    "        # Decrease temperature\n",
    "        temperature *= cooling_rate\n",
    "    \n",
    "    return best_solution\n",
    "\n",
    "def perturb_solution(solution):\n",
    "    # Select two random establishments and swap their positions in the route\n",
    "    i1 = random.randint(0, len(solution)-1)\n",
    "    i2 = random.randint(0, len(solution)-1)\n",
    "    new_solution = solution.copy()\n",
    "    new_solution[i1], new_solution[i2] = new_solution[i2], new_solution[i1]\n",
    "    return new_solution"
   ]
  },
  {
   "cell_type": "code",
   "execution_count": null,
   "id": "3112a1ba",
   "metadata": {},
   "outputs": [],
   "source": []
  }
 ],
 "metadata": {
  "hide_input": false,
  "kernelspec": {
   "display_name": "Python 3 (ipykernel)",
   "language": "python",
   "name": "python3"
  },
  "language_info": {
   "codemirror_mode": {
    "name": "ipython",
    "version": 3
   },
   "file_extension": ".py",
   "mimetype": "text/x-python",
   "name": "python",
   "nbconvert_exporter": "python",
   "pygments_lexer": "ipython3",
   "version": "3.10.6"
  }
 },
 "nbformat": 4,
 "nbformat_minor": 5
}
